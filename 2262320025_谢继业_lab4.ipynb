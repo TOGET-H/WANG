{
 "cells": [
  {
   "cell_type": "code",
   "execution_count": 1,
   "id": "4a9c7a5e-f82d-4642-87ef-7b5180451b9b",
   "metadata": {},
   "outputs": [],
   "source": [
    "import matplotlib.pyplot as plt\n",
    "import pandas as pd\n",
    "import numpy as np\n",
    "from pyspark.sql import SparkSession\n",
    "from pyspark import SparkContext,SparkConf\n",
    "from pyspark.ml.evaluation import RegressionEvaluator\n",
    "from pyspark.ml.recommendation import ALS\n",
    "from pyspark.sql import *\n",
    "from pyspark.sql.functions import *"
   ]
  },
  {
   "cell_type": "code",
   "execution_count": 2,
   "id": "dfc54eba-516a-40e2-958c-c5e9026b3021",
   "metadata": {},
   "outputs": [],
   "source": [
    "spark = SparkSession.builder.getOrCreate()\n",
    "rdd=spark.read.csv(\"ratings.csv\", header='True', inferSchema='True')"
   ]
  },
  {
   "cell_type": "code",
   "execution_count": 3,
   "id": "b6cdebc0-ed24-44cc-8552-872411293a45",
   "metadata": {},
   "outputs": [
    {
     "name": "stdout",
     "output_type": "stream",
     "text": [
      "+------+-------+------+---------+\n",
      "|userId|movieId|rating|timestamp|\n",
      "+------+-------+------+---------+\n",
      "|     1|      1|   4.0|964982703|\n",
      "|     1|      3|   4.0|964981247|\n",
      "|     1|      6|   4.0|964982224|\n",
      "|     1|     47|   5.0|964983815|\n",
      "|     1|     50|   5.0|964982931|\n",
      "|     1|     70|   3.0|964982400|\n",
      "|     1|    101|   5.0|964980868|\n",
      "|     1|    110|   4.0|964982176|\n",
      "|     1|    151|   5.0|964984041|\n",
      "|     1|    157|   5.0|964984100|\n",
      "|     1|    163|   5.0|964983650|\n",
      "|     1|    216|   5.0|964981208|\n",
      "|     1|    223|   3.0|964980985|\n",
      "|     1|    231|   5.0|964981179|\n",
      "|     1|    235|   4.0|964980908|\n",
      "|     1|    260|   5.0|964981680|\n",
      "|     1|    296|   3.0|964982967|\n",
      "|     1|    316|   3.0|964982310|\n",
      "|     1|    333|   5.0|964981179|\n",
      "|     1|    349|   4.0|964982563|\n",
      "+------+-------+------+---------+\n",
      "only showing top 20 rows\n",
      "\n"
     ]
    }
   ],
   "source": [
    "rdd.show()"
   ]
  },
  {
   "cell_type": "code",
   "execution_count": 4,
   "id": "7186eefd-c500-4b26-abbb-0bda831ac8cd",
   "metadata": {},
   "outputs": [],
   "source": [
    "traning, test = rdd.randomSplit([0.8, 0.2])"
   ]
  },
  {
   "cell_type": "code",
   "execution_count": 5,
   "id": "e4438d15-baf8-4996-8594-447c89298101",
   "metadata": {},
   "outputs": [],
   "source": [
    "als = ALS(maxIter=20, regParam=0.01, userCol=\"userId\", itemCol=\"movieId\", ratingCol=\"rating\", coldStartStrategy=\"drop\")\n",
    "model = als.fit(traning)"
   ]
  },
  {
   "cell_type": "code",
   "execution_count": 6,
   "id": "ab7b33a4-2991-4f0c-9af3-d10262f5db2a",
   "metadata": {},
   "outputs": [
    {
     "name": "stderr",
     "output_type": "stream",
     "text": [
      "                                                                                \r"
     ]
    },
    {
     "name": "stdout",
     "output_type": "stream",
     "text": [
      "root-mean-square error: 1.125133496097397\n"
     ]
    }
   ],
   "source": [
    "predictions = model.transform(test)\n",
    "evaluator = RegressionEvaluator(metricName=\"rmse\", labelCol=\"rating\", predictionCol=\"prediction\")\n",
    "rmse = evaluator.evaluate(predictions)\n",
    "print(\"root-mean-square error: \"+str(rmse))"
   ]
  },
  {
   "cell_type": "code",
   "execution_count": 7,
   "id": "035dcc30-114a-4e50-9723-23809c2ce081",
   "metadata": {},
   "outputs": [],
   "source": [
    "recommends = model.recommendForAllUsers(5)"
   ]
  },
  {
   "cell_type": "code",
   "execution_count": 8,
   "id": "97b9ef52-f0f9-4cc1-aacd-d7962371e484",
   "metadata": {},
   "outputs": [
    {
     "name": "stderr",
     "output_type": "stream",
     "text": [
      "[Stage 235:===============================================>      (88 + 4) / 100]\r"
     ]
    },
    {
     "name": "stdout",
     "output_type": "stream",
     "text": [
      "+------+--------------------+----+\n",
      "|userId|     recommendations|size|\n",
      "+------+--------------------+----+\n",
      "|     1|[{56145, 7.753439...|   5|\n",
      "|     2|[{2879, 8.573591}...|   5|\n",
      "|     3|[{6857, 6.910298}...|   5|\n",
      "|     4|[{102903, 9.76545...|   5|\n",
      "|     5|[{52435, 9.968112...|   5|\n",
      "|     6|[{3036, 7.4586525...|   5|\n",
      "|     7|[{1194, 9.910393}...|   5|\n",
      "|     8|[{61240, 6.889530...|   5|\n",
      "|     9|[{179819, 8.71759...|   5|\n",
      "|    10|[{3089, 7.846598}...|   5|\n",
      "|    11|[{103141, 7.21155...|   5|\n",
      "|    12|[{37384, 8.921238...|   5|\n",
      "|    13|[{95182, 9.114754...|   5|\n",
      "|    14|[{5784, 8.107646}...|   5|\n",
      "|    15|[{37727, 8.379441...|   5|\n",
      "|    16|[{2517, 6.7077703...|   5|\n",
      "|    17|[{1957, 6.042229}...|   5|\n",
      "|    18|[{1217, 4.9526772...|   5|\n",
      "|    19|[{7360, 5.2648497...|   5|\n",
      "|    20|[{3477, 7.593833}...|   5|\n",
      "+------+--------------------+----+\n",
      "only showing top 20 rows\n",
      "\n"
     ]
    },
    {
     "name": "stderr",
     "output_type": "stream",
     "text": [
      "                                                                                \r"
     ]
    }
   ],
   "source": [
    "recommends.select(\"userId\", \"recommendations\", size(\"recommendations\").alias(\"size\")).show()"
   ]
  },
  {
   "cell_type": "code",
   "execution_count": 9,
   "id": "73ff75ad-c420-409b-9f80-e33e911a6542",
   "metadata": {},
   "outputs": [
    {
     "name": "stderr",
     "output_type": "stream",
     "text": [
      "                                                                                \r"
     ]
    },
    {
     "data": {
      "text/plain": [
       "[Row(userId=1, recommendations=[Row(movieId=56145, rating=7.753439426422119), Row(movieId=1262, rating=6.679389476776123), Row(movieId=1203, rating=6.51816463470459), Row(movieId=3089, rating=6.423007011413574), Row(movieId=599, rating=6.377112865447998)])]"
      ]
     },
     "execution_count": 9,
     "metadata": {},
     "output_type": "execute_result"
    }
   ],
   "source": [
    "recommends.take(1)"
   ]
  },
  {
   "cell_type": "code",
   "execution_count": null,
   "id": "d1fcc643-5ed0-4f08-adea-2d76bf8dd375",
   "metadata": {},
   "outputs": [],
   "source": []
  }
 ],
 "metadata": {
  "kernelspec": {
   "display_name": "Python 3 (ipykernel)",
   "language": "python",
   "name": "python3"
  },
  "language_info": {
   "codemirror_mode": {
    "name": "ipython",
    "version": 3
   },
   "file_extension": ".py",
   "mimetype": "text/x-python",
   "name": "python",
   "nbconvert_exporter": "python",
   "pygments_lexer": "ipython3",
   "version": "3.8.10"
  }
 },
 "nbformat": 4,
 "nbformat_minor": 5
}
