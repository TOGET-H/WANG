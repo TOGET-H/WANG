{
 "cells": [
  {
   "cell_type": "code",
   "execution_count": 1,
   "id": "ba42fc74-cc2d-4c9a-b86e-56b5897cd7e9",
   "metadata": {},
   "outputs": [],
   "source": [
    "from pyspark import SparkContext\n",
    "from pyspark.sql import SparkSession\n",
    "from pyspark.sql import *\n",
    "from pyspark.sql.functions import *\n",
    "from pyspark import SparkConf"
   ]
  },
  {
   "cell_type": "code",
   "execution_count": 2,
   "id": "74fffe37-1752-420f-9981-a2c66f971dbf",
   "metadata": {},
   "outputs": [
    {
     "name": "stderr",
     "output_type": "stream",
     "text": [
      "                                                                                \r"
     ]
    }
   ],
   "source": [
    "spark = SparkSession.builder.getOrCreate()\n",
    "df = spark.read.csv(\"lab2data/all_order_products.csv\", header='True', inferSchema='True')\n",
    "#df.select(\"order_id\", \"product_id\").show()"
   ]
  },
  {
   "cell_type": "code",
   "execution_count": 3,
   "id": "2c7ba02e-5ab6-448f-b9d3-4ee219909c74",
   "metadata": {},
   "outputs": [],
   "source": [
    "order2products = df.groupBy(\"order_id\").agg(collect_list(\"product_id\").alias('items'))"
   ]
  },
  {
   "cell_type": "code",
   "execution_count": 4,
   "id": "18dc4d8d-36de-43b6-afd2-82e1e408e691",
   "metadata": {
    "scrolled": true
   },
   "outputs": [
    {
     "name": "stderr",
     "output_type": "stream",
     "text": [
      "                                                                                \r"
     ]
    },
    {
     "data": {
      "text/plain": [
       "3346083"
      ]
     },
     "execution_count": 4,
     "metadata": {},
     "output_type": "execute_result"
    }
   ],
   "source": [
    "order2products.count()"
   ]
  },
  {
   "cell_type": "code",
   "execution_count": 5,
   "id": "0329b236-ebc9-4a34-b8d3-81347855a13a",
   "metadata": {},
   "outputs": [],
   "source": [
    "#order2products.show()\n",
    "order2products=order2products.filter(size('items')>=70)"
   ]
  },
  {
   "cell_type": "code",
   "execution_count": 6,
   "id": "d53568bd-db9c-4303-a0d6-a6014a12c400",
   "metadata": {},
   "outputs": [
    {
     "name": "stderr",
     "output_type": "stream",
     "text": [
      "                                                                                \r"
     ]
    },
    {
     "data": {
      "text/plain": [
       "315"
      ]
     },
     "execution_count": 6,
     "metadata": {},
     "output_type": "execute_result"
    }
   ],
   "source": [
    "order2products.count()"
   ]
  },
  {
   "cell_type": "code",
   "execution_count": 7,
   "id": "f54bd589-9bae-4666-8e99-81a5ac3dcc11",
   "metadata": {},
   "outputs": [],
   "source": [
    "order2products=order2products.filter(size('items')<=90)"
   ]
  },
  {
   "cell_type": "code",
   "execution_count": 8,
   "id": "64679ec4-1ad7-4e4a-9cab-e69bb0585bbc",
   "metadata": {},
   "outputs": [
    {
     "name": "stderr",
     "output_type": "stream",
     "text": [
      "                                                                                \r"
     ]
    },
    {
     "data": {
      "text/plain": [
       "260"
      ]
     },
     "execution_count": 8,
     "metadata": {},
     "output_type": "execute_result"
    }
   ],
   "source": [
    "order2products.count()"
   ]
  },
  {
   "cell_type": "code",
   "execution_count": 9,
   "id": "d8f60af5-a45b-43e9-b228-d56be5864015",
   "metadata": {},
   "outputs": [
    {
     "name": "stderr",
     "output_type": "stream",
     "text": [
      "[Stage 20:===========================================>              (3 + 1) / 4]\r"
     ]
    },
    {
     "name": "stdout",
     "output_type": "stream",
     "text": [
      "+--------+--------------------+----+\n",
      "|order_id|               items|size|\n",
      "+--------+--------------------+----+\n",
      "|   28332|[39236, 19348, 57...|  71|\n",
      "|   70299|[33754, 24852, 47...|  83|\n",
      "|  181716|[49374, 16830, 30...|  70|\n",
      "|  267132|[5161, 36735, 903...|  73|\n",
      "|  341133|[28358, 36554, 42...|  76|\n",
      "|  348609|[14704, 38456, 49...|  76|\n",
      "|  374902|[401, 33511, 1184...|  81|\n",
      "|  388234|[26416, 145, 3803...|  70|\n",
      "|  402458|[14947, 35221, 44...|  70|\n",
      "|  484715|[39558, 16349, 33...|  72|\n",
      "|  488652|[47301, 6828, 197...|  74|\n",
      "|  513607|[24852, 116, 2390...|  81|\n",
      "|  521291|[36070, 24852, 14...|  72|\n",
      "|  542925|[24852, 45840, 16...|  71|\n",
      "|  544549|[10031, 13573, 36...|  74|\n",
      "|  579891|[10685, 38734, 20...|  74|\n",
      "|  583387|[10031, 13573, 23...|  70|\n",
      "|  653280|[12576, 43654, 24...|  72|\n",
      "|  672082|[37849, 46780, 21...|  78|\n",
      "|  678116|[24852, 3318, 116...|  70|\n",
      "+--------+--------------------+----+\n",
      "only showing top 20 rows\n",
      "\n"
     ]
    },
    {
     "name": "stderr",
     "output_type": "stream",
     "text": [
      "                                                                                \r"
     ]
    }
   ],
   "source": [
    "order2products.select(\"order_id\", \"items\",size(\"items\").alias(\"size\")).show()"
   ]
  },
  {
   "cell_type": "code",
   "execution_count": 10,
   "id": "05410000-bfcf-429a-8a16-bc6ede8ffafd",
   "metadata": {},
   "outputs": [],
   "source": [
    "# sum of product's order\n",
    "product2order = df.groupBy(\"product_id\").agg(count(\"*\").alias(\"order_sum\")).sort(desc(\"order_sum\"))"
   ]
  },
  {
   "cell_type": "code",
   "execution_count": 11,
   "id": "2f734d1c-1531-4592-9460-1dfa5ef2b338",
   "metadata": {},
   "outputs": [
    {
     "name": "stderr",
     "output_type": "stream",
     "text": [
      "[Stage 23:===========================================>              (3 + 1) / 4]\r"
     ]
    },
    {
     "name": "stdout",
     "output_type": "stream",
     "text": [
      "+------------------+------------------+\n",
      "|              mean|               avg|\n",
      "+------------------+------------------+\n",
      "|1614.2502085070892|1614.2502085070892|\n",
      "+------------------+------------------+\n",
      "\n"
     ]
    },
    {
     "name": "stderr",
     "output_type": "stream",
     "text": [
      "                                                                                \r"
     ]
    }
   ],
   "source": [
    "product2order=product2order.filter(product2order.order_sum>100)\n",
    "product2order.select(mean(\"order_sum\").alias(\"mean\"),\n",
    "                    avg(\"order_sum\").alias(\"avg\")).show()"
   ]
  },
  {
   "cell_type": "code",
   "execution_count": 12,
   "id": "989a00b6-1900-476a-9d68-c91cdc46e2f9",
   "metadata": {},
   "outputs": [
    {
     "name": "stderr",
     "output_type": "stream",
     "text": [
      "                                                                                \r"
     ]
    }
   ],
   "source": [
    "from pyspark.ml.fpm import FPGrowth\n",
    "fpGrowth = FPGrowth(itemsCol=\"items\",minSupport=0.1, minConfidence=0.1)\n",
    "model = fpGrowth.fit(order2products)"
   ]
  },
  {
   "cell_type": "code",
   "execution_count": 13,
   "id": "89d9f760-448d-428d-97da-7cf210aaccff",
   "metadata": {},
   "outputs": [
    {
     "name": "stderr",
     "output_type": "stream",
     "text": [
      "                                                                                \r"
     ]
    },
    {
     "data": {
      "text/plain": [
       "42"
      ]
     },
     "execution_count": 13,
     "metadata": {},
     "output_type": "execute_result"
    }
   ],
   "source": [
    "model.freqItemsets.count()"
   ]
  },
  {
   "cell_type": "code",
   "execution_count": 14,
   "id": "9f5149b3-00e4-459d-9cc9-f245800d812e",
   "metadata": {},
   "outputs": [
    {
     "name": "stdout",
     "output_type": "stream",
     "text": [
      "+-------+----+\n",
      "|  items|freq|\n",
      "+-------+----+\n",
      "|[25718]|  27|\n",
      "| [9076]|  33|\n",
      "|[47209]|  55|\n",
      "|[46979]|  26|\n",
      "|[39928]|  30|\n",
      "|[16797]|  40|\n",
      "|[33754]|  28|\n",
      "| [5876]|  36|\n",
      "|[13176]|  78|\n",
      "|[19677]|  29|\n",
      "|[49683]|  39|\n",
      "|[36735]|  27|\n",
      "|[27344]|  36|\n",
      "|[24852]|  70|\n",
      "|[41844]|  27|\n",
      "|[44359]|  32|\n",
      "| [4920]|  53|\n",
      "|[45007]|  27|\n",
      "|[44632]|  34|\n",
      "|[21137]|  66|\n",
      "+-------+----+\n",
      "only showing top 20 rows\n",
      "\n"
     ]
    }
   ],
   "source": [
    "model.freqItemsets.show(20)"
   ]
  },
  {
   "cell_type": "code",
   "execution_count": 15,
   "id": "7a06907e-c109-4c60-b1ad-1a542e3db715",
   "metadata": {},
   "outputs": [
    {
     "name": "stdout",
     "output_type": "stream",
     "text": [
      "+----------+----------+-------------------+------------------+------------------+\n",
      "|antecedent|consequent|         confidence|              lift|           support|\n",
      "+----------+----------+-------------------+------------------+------------------+\n",
      "|   [13176]|   [21137]|0.44871794871794873|1.7676767676767677|0.1346153846153846|\n",
      "|   [21137]|   [13176]| 0.5303030303030303|1.7676767676767677|0.1346153846153846|\n",
      "+----------+----------+-------------------+------------------+------------------+\n",
      "\n"
     ]
    }
   ],
   "source": [
    "model.associationRules.show()"
   ]
  },
  {
   "cell_type": "code",
   "execution_count": null,
   "id": "8d58ca6c-cdce-4b30-bcd0-751663dd1696",
   "metadata": {},
   "outputs": [],
   "source": []
  }
 ],
 "metadata": {
  "kernelspec": {
   "display_name": "Python 3 (ipykernel)",
   "language": "python",
   "name": "python3"
  },
  "language_info": {
   "codemirror_mode": {
    "name": "ipython",
    "version": 3
   },
   "file_extension": ".py",
   "mimetype": "text/x-python",
   "name": "python",
   "nbconvert_exporter": "python",
   "pygments_lexer": "ipython3",
   "version": "3.8.10"
  }
 },
 "nbformat": 4,
 "nbformat_minor": 5
}
